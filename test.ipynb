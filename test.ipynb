{
 "cells": [
  {
   "cell_type": "code",
   "execution_count": 1,
   "metadata": {},
   "outputs": [
    {
     "ename": "ApiError",
     "evalue": "status_code: 401, body: {'message': 'error occurred during proxy authentication: no token in request', 'code': 401, 'health_check_enabled': False}",
     "output_type": "error",
     "traceback": [
      "\u001b[0;31m---------------------------------------------------------------------------\u001b[0m",
      "\u001b[0;31mApiError\u001b[0m                                  Traceback (most recent call last)",
      "Cell \u001b[0;32mIn[1], line 8\u001b[0m\n\u001b[1;32m      6\u001b[0m client \u001b[38;5;241m=\u001b[39m OctoAI()\n\u001b[1;32m      7\u001b[0m \u001b[38;5;66;03m# images is a list of Images from octoai.types\u001b[39;00m\n\u001b[0;32m----> 8\u001b[0m image_resp \u001b[38;5;241m=\u001b[39m client\u001b[38;5;241m.\u001b[39mimage_gen\u001b[38;5;241m.\u001b[39mgenerate_sdxl(\n\u001b[1;32m      9\u001b[0m     prompt\u001b[38;5;241m=\u001b[39m\u001b[38;5;124m\"\u001b[39m\u001b[38;5;124mphotorealistic, poodle, intricately detailed\u001b[39m\u001b[38;5;124m\"\u001b[39m\n\u001b[1;32m     10\u001b[0m )\n\u001b[1;32m     11\u001b[0m images \u001b[38;5;241m=\u001b[39m image_resp\u001b[38;5;241m.\u001b[39mimages\n\u001b[1;32m     12\u001b[0m \u001b[38;5;66;03m# images can be filtered for safety, so since we only generated 1 image by default, this verifies\u001b[39;00m\n\u001b[1;32m     13\u001b[0m \u001b[38;5;66;03m# we actually have an image to show.\u001b[39;00m\n",
      "File \u001b[0;32m~/anaconda3/lib/python3.11/site-packages/octoai/image_gen/client.py:1378\u001b[0m, in \u001b[0;36mImageGenClient.generate_sdxl\u001b[0;34m(self, prompt, cfg_scale, checkpoint, clip_skip, controlnet, controlnet_conditioning_scale, controlnet_early_stop, controlnet_image, controlnet_preprocess, height, high_noise_frac, image_encoding, init_image, ip_adapter_image, ip_adapter_mask_image, ip_adapter_method, ip_adapter_mode, ip_adapter_scale, loras, mask_image, negative_prompt, negative_prompt2, num_images, outpainting, prompt2, sampler, seed, steps, strength, style_preset, textual_inversions, transfer_images, use_refiner, vae, width, request_options)\u001b[0m\n\u001b[1;32m   1376\u001b[0m \u001b[38;5;28;01mexcept\u001b[39;00m JSONDecodeError:\n\u001b[1;32m   1377\u001b[0m     \u001b[38;5;28;01mraise\u001b[39;00m ApiError(status_code\u001b[38;5;241m=\u001b[39m_response\u001b[38;5;241m.\u001b[39mstatus_code, body\u001b[38;5;241m=\u001b[39m_response\u001b[38;5;241m.\u001b[39mtext)\n\u001b[0;32m-> 1378\u001b[0m \u001b[38;5;28;01mraise\u001b[39;00m ApiError(status_code\u001b[38;5;241m=\u001b[39m_response\u001b[38;5;241m.\u001b[39mstatus_code, body\u001b[38;5;241m=\u001b[39m_response_json)\n",
      "\u001b[0;31mApiError\u001b[0m: status_code: 401, body: {'message': 'error occurred during proxy authentication: no token in request', 'code': 401, 'health_check_enabled': False}"
     ]
    }
   ],
   "source": [
    "from octoai.util import to_file\n",
    "from octoai.client import OctoAI\n",
    "if __name__ == \"__main__\":\n",
    "    # If OCTOAI_TOKEN is not set as an envvar, you can also pass a token to the client with:\n",
    "    # ImageGenerator(token=\"YOUR_TOKEN_HERE\")\n",
    "    client = OctoAI()\n",
    "    # images is a list of Images from octoai.types\n",
    "    image_resp = client.image_gen.generate_sdxl(\n",
    "        prompt=\"photorealistic, poodle, intricately detailed\"\n",
    "    )\n",
    "    images = image_resp.images\n",
    "    # images can be filtered for safety, so since we only generated 1 image by default, this verifies\n",
    "    # we actually have an image to show.\n",
    "    if not images[0].removed_for_safety:\n",
    "        to_file(images[0], \"output.jpg\")"
   ]
  }
 ],
 "metadata": {
  "kernelspec": {
   "display_name": "base",
   "language": "python",
   "name": "python3"
  },
  "language_info": {
   "codemirror_mode": {
    "name": "ipython",
    "version": 3
   },
   "file_extension": ".py",
   "mimetype": "text/x-python",
   "name": "python",
   "nbconvert_exporter": "python",
   "pygments_lexer": "ipython3",
   "version": "3.11.5"
  }
 },
 "nbformat": 4,
 "nbformat_minor": 2
}
